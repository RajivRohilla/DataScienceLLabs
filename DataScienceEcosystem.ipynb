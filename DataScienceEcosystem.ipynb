{
 "cells": [
  {
   "cell_type": "markdown",
   "metadata": {},
   "source": [
    "<center>\n",
    "    <img src=\"https://cf-courses-data.s3.us.cloud-object-storage.appdomain.cloud/IBMDeveloperSkillsNetwork-DS0105EN-SkillsNetwork/labs/Module2/images/SN_web_lightmode.png\" width=\"300\" alt=\"cognitiveclass.ai logo\">\n",
    "</center>\n"
   ]
  },
  {
   "cell_type": "markdown",
   "metadata": {},
   "source": [
    "#### Add your code below following the instructions given in the course\n"
   ]
  },
  {
   "cell_type": "code",
   "execution_count": 3,
   "metadata": {},
   "outputs": [
    {
     "data": {
      "text/markdown": [
       "# Data Science Tools and Ecosystem\n"
      ],
      "text/plain": [
       "<IPython.core.display.Markdown object>"
      ]
     },
     "metadata": {},
     "output_type": "display_data"
    }
   ],
   "source": [
    "%%markdown\n",
    "# Data Science Tools and Ecosystem\n"
   ]
  },
  {
   "cell_type": "code",
   "execution_count": 4,
   "metadata": {},
   "outputs": [
    {
     "data": {
      "text/markdown": [
       "In this notebook, Data Science Tools and Ecosystem are summarized.\n"
      ],
      "text/plain": [
       "<IPython.core.display.Markdown object>"
      ]
     },
     "metadata": {},
     "output_type": "display_data"
    }
   ],
   "source": [
    "%%markdown\n",
    "In this notebook, Data Science Tools and Ecosystem are summarized."
   ]
  },
  {
   "cell_type": "code",
   "execution_count": 5,
   "metadata": {},
   "outputs": [
    {
     "data": {
      "text/markdown": [
       "Some of the popular languages that Data Scientists use are:\n",
       "1. Python\n",
       "2. R\n",
       "3. SQL\n",
       "4. Julia\n",
       "5. Scala\n"
      ],
      "text/plain": [
       "<IPython.core.display.Markdown object>"
      ]
     },
     "metadata": {},
     "output_type": "display_data"
    }
   ],
   "source": [
    "%%markdown\n",
    "Some of the popular languages that Data Scientists use are:\n",
    "1. Python\n",
    "2. R\n",
    "3. SQL\n",
    "4. Julia\n",
    "5. Scala"
   ]
  },
  {
   "cell_type": "code",
   "execution_count": 6,
   "metadata": {},
   "outputs": [
    {
     "data": {
      "text/markdown": [
       "Some of the commonly used libraries used by Data Scientists include:\n",
       "\n",
       "1. **Pandas** – A Python library for data manipulation and analysis, providing data structures and operations for manipulating numerical tables and time series. :contentReference[oaicite:0]{index=0}\n",
       "\n",
       "2. **NumPy** – A fundamental package for scientific computing with Python, adding support for large, multi-dimensional arrays and matrices, along with a large collection of high-level mathematical functions to operate on these arrays. :contentReference[oaicite:1]{index=1}\n",
       "\n",
       "3. **Matplotlib** – A comprehensive library for creating static, animated, and interactive visualizations in Python. :contentReference[oaicite:2]{index=2}\n",
       "\n",
       "4. **SciPy** – An open-source Python library used for scientific and technical computing, providing modules for optimization, linear algebra, integration, interpolation, special functions, signal and image processing, and more. :contentReference[oaicite:3]{index=3}\n",
       "\n",
       "5. **Scikit-learn** – A free and open-source machine learning library for the Python programming language, featuring various classification, regression, and clustering algorithms, and designed to interoperate with NumPy and SciPy. :contentReference[oaicite:4]{index=4}\n"
      ],
      "text/plain": [
       "<IPython.core.display.Markdown object>"
      ]
     },
     "metadata": {},
     "output_type": "display_data"
    }
   ],
   "source": [
    "%%markdown\n",
    "Some of the commonly used libraries used by Data Scientists include:\n",
    "\n",
    "1. **Pandas** – A Python library for data manipulation and analysis, providing data structures and operations for manipulating numerical tables and time series. :contentReference[oaicite:0]{index=0}\n",
    "\n",
    "2. **NumPy** – A fundamental package for scientific computing with Python, adding support for large, multi-dimensional arrays and matrices, along with a large collection of high-level mathematical functions to operate on these arrays. :contentReference[oaicite:1]{index=1}\n",
    "\n",
    "3. **Matplotlib** – A comprehensive library for creating static, animated, and interactive visualizations in Python. :contentReference[oaicite:2]{index=2}\n",
    "\n",
    "4. **SciPy** – An open-source Python library used for scientific and technical computing, providing modules for optimization, linear algebra, integration, interpolation, special functions, signal and image processing, and more. :contentReference[oaicite:3]{index=3}\n",
    "\n",
    "5. **Scikit-learn** – A free and open-source machine learning library for the Python programming language, featuring various classification, regression, and clustering algorithms, and designed to interoperate with NumPy and SciPy. :contentReference[oaicite:4]{index=4}\n"
   ]
  },
  {
   "cell_type": "code",
   "execution_count": 7,
   "metadata": {},
   "outputs": [
    {
     "data": {
      "text/markdown": [
       "| Data Science Tools |\n",
       "|--------------------|\n",
       "| Jupyter Notebook   |\n",
       "| RStudio            |\n",
       "| Visual Studio Code |\n"
      ],
      "text/plain": [
       "<IPython.core.display.Markdown object>"
      ]
     },
     "metadata": {},
     "output_type": "display_data"
    }
   ],
   "source": [
    "%%markdown\n",
    "| Data Science Tools |\n",
    "|--------------------|\n",
    "| Jupyter Notebook   |\n",
    "| RStudio            |\n",
    "| Visual Studio Code |\n"
   ]
  },
  {
   "cell_type": "code",
   "execution_count": 8,
   "metadata": {},
   "outputs": [
    {
     "data": {
      "text/markdown": [
       "### Below are a few examples of evaluating arithmetic expressions in Python\n"
      ],
      "text/plain": [
       "<IPython.core.display.Markdown object>"
      ]
     },
     "metadata": {},
     "output_type": "display_data"
    }
   ],
   "source": [
    "%%markdown\n",
    "### Below are a few examples of evaluating arithmetic expressions in Python"
   ]
  },
  {
   "cell_type": "code",
   "execution_count": 10,
   "metadata": {},
   "outputs": [
    {
     "data": {
      "text/plain": [
       "17"
      ]
     },
     "execution_count": 10,
     "metadata": {},
     "output_type": "execute_result"
    }
   ],
   "source": [
    "# This is a simple arithmetic expression to multiply two numbers and then add an integer\n",
    "(3*4)+5\n"
   ]
  },
  {
   "cell_type": "code",
   "execution_count": 11,
   "metadata": {},
   "outputs": [
    {
     "data": {
      "text/plain": [
       "3.3333333333333335"
      ]
     },
     "execution_count": 11,
     "metadata": {},
     "output_type": "execute_result"
    }
   ],
   "source": [
    "# This will convert 200 minutes to hours by diving by 60\n",
    "200/60"
   ]
  },
  {
   "cell_type": "code",
   "execution_count": 12,
   "metadata": {},
   "outputs": [
    {
     "data": {
      "text/markdown": [
       "\n",
       "**Objectives:**\n",
       "\n",
       "- List popular languages for Data Science\n",
       "- Identify commonly used libraries in Data Science\n",
       "- Recognize open-source development environments for Data Science\n",
       "- Understand how to create and format Markdown cells\n",
       "- Learn how to document and explain code using comments\n"
      ],
      "text/plain": [
       "<IPython.core.display.Markdown object>"
      ]
     },
     "metadata": {},
     "output_type": "display_data"
    }
   ],
   "source": [
    "%%markdown\n",
    "\n",
    "**Objectives:**\n",
    "\n",
    "- List popular languages for Data Science\n",
    "- Identify commonly used libraries in Data Science\n",
    "- Recognize open-source development environments for Data Science\n",
    "- Understand how to create and format Markdown cells\n",
    "- Learn how to document and explain code using comments\n"
   ]
  },
  {
   "cell_type": "code",
   "execution_count": 13,
   "metadata": {},
   "outputs": [
    {
     "data": {
      "text/markdown": [
       "## Author\n",
       "Rajiv Rohilla\n"
      ],
      "text/plain": [
       "<IPython.core.display.Markdown object>"
      ]
     },
     "metadata": {},
     "output_type": "display_data"
    }
   ],
   "source": [
    "%%markdown\n",
    "## Author\n",
    "Rajiv Rohilla"
   ]
  },
  {
   "cell_type": "code",
   "execution_count": null,
   "metadata": {},
   "outputs": [],
   "source": []
  }
 ],
 "metadata": {
  "kernelspec": {
   "display_name": "Python 3 (ipykernel)",
   "language": "python",
   "name": "python3"
  },
  "language_info": {
   "codemirror_mode": {
    "name": "ipython",
    "version": 3
   },
   "file_extension": ".py",
   "mimetype": "text/x-python",
   "name": "python",
   "nbconvert_exporter": "python",
   "pygments_lexer": "ipython3",
   "version": "3.12.8"
  }
 },
 "nbformat": 4,
 "nbformat_minor": 4
}
